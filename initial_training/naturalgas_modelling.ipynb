version https://git-lfs.github.com/spec/v1
oid sha256:c6d99d5420d0908227392ee3d49af9fc8fd2f474d4c7274487f4fd49705f5ac0
size 17617
